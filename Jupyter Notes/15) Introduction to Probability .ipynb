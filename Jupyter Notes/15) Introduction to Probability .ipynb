{
 "cells": [
  {
   "cell_type": "markdown",
   "metadata": {},
   "source": [
    "# **Introduction to Probability**\n",
    "\n",
    "Q: What is probability? \n",
    "\n",
    "A: A precise way of talking / reasoning about **uncertainty**\n",
    "\n",
    "Some examples: \n",
    "1) Tossing a fair coin \n",
    "2) Rolling a fair **6-sided die**\n",
    "\n",
    "We refer to the **sample space** as the set of all possible outcomes of a random experiement or process \n",
    "* Essentially represents the universe of possible outcomes that can occur \n",
    "\n",
    "Properties of a Probability Space \n",
    "* $\\Sigma:$ Set of outcomes / sample space\n",
    "* $w \\in \\Omega$: an outcome / sample point \n",
    "*  $P[w]: probability of $w$  $(\\forall w \\in \\Omega)$\n",
    "\n",
    "Properties must always satisfy: \n",
    "\n",
    "* $\\forall w \\in \\Omega$\n",
    "\n",
    "* $ $0 \\leq P[w] \\leq 1$\n",
    "\n",
    "* $\\sum_{w \\in \\Omega} P[w] = 1$\n",
    "\n",
    "#### **Uniform Probability Space**\n",
    "* In a uniform probability space, all outomces are equally likely, i.e. \n",
    "    * $P[w] = \\frac{1}{|\\Omega|} \\ \\ \\ \\ \\ \\   \\forall w \\in \\Omega$\n",
    "* Examples include: \n",
    "    * Tossing one (or more) fair coins \n",
    "    * Rolling one (or more) fair diece \n",
    "    * Dealing a poker hand \n",
    "\n",
    "#### **Events**\n",
    "* An event, $E$, is any subset of the sample space, i.e., $E \\subset \\Omega$\n",
    "* The probability of $E$ happening is defined as\n",
    "    * $P[E] = \\sum_{W \\in E} P[W]$\n",
    "\n",
    "\n",
    "#### **Events in Uniform Probability Spaces**\n",
    "\n",
    "In a uniform probability space\n",
    "\n",
    "$P[w] = \\frac{1}{\\Omega} \\forall w \\in \\ \\ \\ \\Omega$\n",
    "\n",
    "$P[E] = \\sum_{w \\in E} \\ \\ P[w] = \\frac{|E|}{| \\Omega |}$\n",
    "\n",
    "* In uniform spaces"
   ]
  },
  {
   "cell_type": "markdown",
   "metadata": {},
   "source": []
  }
 ],
 "metadata": {
  "language_info": {
   "name": "python"
  }
 },
 "nbformat": 4,
 "nbformat_minor": 2
}
