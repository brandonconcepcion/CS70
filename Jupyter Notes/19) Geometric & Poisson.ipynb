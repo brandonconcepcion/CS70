{
 "cells": [
  {
   "cell_type": "markdown",
   "metadata": {},
   "source": [
    "# **Geometric and Poisson Distributions** #"
   ]
  },
  {
   "cell_type": "markdown",
   "metadata": {},
   "source": [
    "#### **Joint Distributions** #### \n",
    "\n",
    "*The **joint distribution** of two random variables, X and Y on the same probability space is the set \n",
    "\n",
    "{$(a,b)$, $P[X = a, Y = b] : a \\in A, b \\in B$}\n",
    "\n",
    "* where A, B are the possible values of X, Y respectively \n",
    "\n",
    "We define the **marginal distribution** of $X$ by $P[X=a] = \\sum_{b \\in B} P[X = a, Y = b]$\n",
    "\n",
    "We have this notion of **independence** if \n",
    "\n",
    "$$P[X=a, Y=b] = P[x = a] \\cdot P[y = b] \\forall a,b$$"
   ]
  },
  {
   "cell_type": "markdown",
   "metadata": {},
   "source": [
    "#### **Geometric Distribution** ####\n",
    "\n",
    "Example: Let's say that we toss a biased coin (Flipping heads is $p$) until you see the *first* occurence of a Heads appear \n",
    "\n",
    "We define $X$ as the number of tosses until we reach our first Heads \n",
    "\n",
    "What is this distribution of $X$ look like?\n",
    "* $P[X = 1] = p$\n",
    "* $P[X = 2] = (1-p)^1 \\cdot p$\n",
    "* $P[X = 3] = (1-p)^2 \\cdot p$\n",
    "* $...$\n",
    "* $P[X = k] = (1-p)^{k- 1} \\cdot p$\n",
    "\n",
    "We say that $X$ then has a **Geometric Distribution** with parameter $p$ \n",
    "* $X$ ~ $\\text{Geom} (p)$\n",
    "\n",
    "As with any probability distribution, the sum of all the respective probabilities, $P[X = 1]$ and so on, will sum to be equal to $1$\n",
    "\n",
    "<center>\n",
    "\n",
    "<img src=\"https://cdn.britannica.com/31/242831-050-17D0C299/geometric-distribution-probability-statistics.jpg\" width=\"600\" height=\"300\">\n",
    "\n",
    "</center>\n",
    "\n",
    "\n",
    "##### **Expectation of** $Geom(p)$ #####\n",
    "$$\\frac{1}{p}$$\n",
    "\n",
    "As an example: If we're trying to find the expected number of times we have to flip a coin in order to see a Heads, we would have to flip the coin around: \n",
    "\n",
    "$$\\frac{1}{\\frac{1}{2}} = 2 \\text{ times}$$ \n",
    "\n",
    "##### **Memoryless** #####\n",
    "\n",
    "The **geometric distribution** is memoryless: \n",
    "* So the time until I flip another Heads is *independent* of how long we've been *waiting* for that Heads. "
   ]
  },
  {
   "cell_type": "markdown",
   "metadata": {},
   "source": [
    "### **Poisson Distributions** ### \n",
    "\n",
    "* Suppose some event (such as radioactive emission, disonnected phone call, etc) occurs radnomly at a certain average density: $\\lambda$ per unit of time\n",
    "\n",
    "* Also assume that that each such occurence is *independent*\n",
    "\n",
    "* Then, the number of occurences in a specific unit of time is modeled by the **Poisson** random variable $X$ ~ $\\text{Pois}(\\lambda)$\n",
    "\n",
    "We define $P[X = k]$: \n",
    "$$e^{-\\lambda} \\cdot \\frac{\\lambda^k}{k!}$$\n",
    "\n",
    "Let's consider an example: \n",
    "\n",
    "Consider $X$ to the the number of goals in a World Cup Soccer match, that is: \n",
    "\n",
    "$X$ ~ $\\text{Pois}(2.5)$\n",
    "\n",
    "If we want to find the specific probabilities of scoring specific goal values within this period, we would see the calculations as follows: \n",
    "\n",
    "* $P[X = 0\\text{ goals}] = e^{-2.5} \\cdot \\frac{2.5^0}{0!} = e^{-2.5} \\approx 0.082$\n",
    "\n",
    "* $P[X = 1\\text{ goals}] = e^{-2.5} \\cdot \\frac{2.5^1}{1!} = \\approx 0.205$\n",
    "\n",
    "* $P[X = 2\\text{ goals}] = e^{-2.5} \\cdot \\frac{2.5^2}{2!} = \\approx 0.257$\n",
    "\n",
    "* $P[X = 3\\text{ goals}] = e^{-2.5} \\cdot \\frac{2.5^3}{3!} = \\approx 0.214$\n",
    "\n",
    "* $P[X \\geq 3\\text{ goals}] \\approx 0.242$\n",
    "\n",
    "<center>\n",
    "\n",
    "<img src=\"https://live.boost.org/doc/libs/1_73_0/libs/math/doc/graphs/poisson_pdf_1.svg\" width=\"600\" height=\"300\">\n",
    "\n",
    "</center>\n",
    "\n",
    "##### **Expectation of** $Pois(\\lambda)$: #####\n",
    "$$\\lambda$$\n",
    "\n",
    "##### **Poisson and Binomial** #####\n",
    "\n",
    "For a given constant $\\lambda$, \n",
    "\n",
    "As $n$ approaches $\\infty$ and $p$ approaches $0$, $\\text{Bin}(n, \\frac{\\lambda}{n})$ approaches $Pois(\\lambda)$, as $\\lambda$ = $n \\cdot p$ remains constant \n",
    "\n",
    "\n",
    "\n"
   ]
  },
  {
   "cell_type": "markdown",
   "metadata": {},
   "source": []
  }
 ],
 "metadata": {
  "language_info": {
   "name": "python"
  }
 },
 "nbformat": 4,
 "nbformat_minor": 2
}
