{
 "cells": [
  {
   "cell_type": "markdown",
   "metadata": {},
   "source": [
    "# **Continuous Probability**\n",
    "\n",
    "A continuous random variable $X$ is described by a probability density function $F: R \\rightarrow R$ such that \n",
    "* $f(x) \\geq 0 $ $\\forall x$\n",
    "\n",
    "* $\\int_{-\\infty}^{\\infty} f(x) dx = 1$\n",
    "\n",
    "* $P[a \\leq X \\leq b] = \\int_a^b f(x)dx$\n",
    "\n",
    "Note: $f(x)$ is a probability density per unit length $P[x \\leq X \\leq x + dx] \\approx f(x)dx$ for infinitesimal $dx$\n",
    "\n",
    "Cumulative Distribution Function: \n",
    "* $F(x) = P[X \\leq x] = \\int_{-\\infty}^{\\infty} f(z) dz$\n",
    "* $f(x) = \\frac{\\text{d}}{\\text{dx}} F(x)$\n",
    "\n"
   ]
  },
  {
   "cell_type": "markdown",
   "metadata": {},
   "source": [
    "### **What's the Difference between PDF and CDF?**\n",
    "\n",
    "PDF: \n",
    "* The PDF of $f(x)$ gives the rate at which the probability density of $X$ changes with respect to $X$\n",
    "* Represents probability density at unit intervals, rather than cumulative probabilities\n",
    "* The integral over a certain interval gives the probability that the random variable falls within that interval \n",
    "\n",
    "CDF: \n",
    "* The CDF $F(X) = P(X \\leq x)$ of a random variable $X$ gives the probability that $X$ takes on a values less than or equal to $x$\n",
    "* The CDF provides information about the probability of observing balues less than or equal to a given value of $x$\n",
    "* It's also a cumulative measure, meaning it accumulatrs probabilities as $x$ increases \n",
    "* The range of $F(x)$ is from $0$ to $1$\n",
    "* If we pick a value of $x = 4$, and find $F(4) = 0.8$, then this indicates that there's an $80\\%$ chance that the random variable $X$ is less than or equal to $4$\n",
    "\n",
    "The PDF is actually the *derivative* of the CDF \n",
    "* PDF represents the rate of change of cumulative probabilities with respect to $x$\n",
    "* It tells us how rapdily the cumulative probabilities are accumulating as $x$ increases \n",
    "\n",
    "If we want to find the cumulative probabilities for a specific interval, we take the integral of the PDF function "
   ]
  },
  {
   "cell_type": "markdown",
   "metadata": {},
   "source": [
    "### **Continuous Uniform Distribution**\n",
    "* Consider the continuous uniform distribution on $[L,R]$\n",
    "\n",
    "$$f(x) = \n",
    "\\begin{cases} \n",
    "0 & \\text{if } x < L \\\\\n",
    "\\frac{1}{R-L} & \\text{if } L \\leq x \\leq R \\\\\n",
    "0 & \\text{if } x > R\n",
    "\\end{cases}$$\n",
    "\n",
    "For $L \\leq a \\leq b \\leq R$  $P[a \\leq X \\leq b] = \\frac{b-a}{R-L}$\n",
    "\n",
    "Here is a drawing of how it would look: \n",
    "<img src=\"cont1.png\" alt=\"Image Alt Text\" width=\"200\" height=\"75\">\n",
    "\n",
    "\n",
    "### **Expectation and Variance**\n",
    "\n",
    "The **Expectation** of a continuous random variable $X$ with pdf $f$ is \n",
    "* $E[X] = \\int_{-\\infty}^{\\infty} f(x) dx$\n",
    "\n",
    "*The **Variance** of a continuous random variable $X$ with pdf $f$ is \n",
    "* $\\text{Var}(X) = \\int_{-\\infty}^{\\infty} x^2 f(x)dx - E[X]^2$\n",
    "\n",
    "* Also note that the first term is $E[X^2]$\n",
    "\n",
    "Generally: For a function $G: R \\rightarrow R$\n",
    "* $E[G(X)] = \\int_{-\\infty}^{\\infty} G(x) \\cdot f(x) dx$\n"
   ]
  },
  {
   "cell_type": "markdown",
   "metadata": {},
   "source": [
    "### **Joint Distribution** \n",
    "\n",
    "The Joint Distribution of random variables $X$, and $Y$: pdf $f: R^2 \\rightarrow R$\n",
    "* $f(x,y) \\geq 0$\n",
    "\n",
    "* $\\int_{-\\infty}^{\\infty} \\int_{-\\infty}^{\\infty} f(x,y)$ $dx$ $dy$ $ = 1$\n",
    "\n",
    "* $P[a \\leq X \\leq b, c \\leq Y \\leq d] = \\int_{a}^{b} \\int_{c}^{d} f(x,y)$ $dx$ $dy$ $ = 1$\n",
    "\n",
    "Interpretation of $f(x,y)$: \n",
    "* Probability density *per unit area* at $(x,y)$"
   ]
  },
  {
   "cell_type": "markdown",
   "metadata": {},
   "source": [
    "### Independence \n",
    "\n",
    "Definition: Continuous random variables $X$ and $Y$ are **independent** if\n",
    "* $P[a \\leq X \\leq b, c \\leq Y \\leq d] = P[a \\leq X \\leq b] \\cdot P[c \\leq Y \\leq d]$ $\\forall$ $a < b, c < d$ \n",
    "\n",
    "* $X$, $Y$ independent \\implies $f(x,y) = f_x(x) \\cdot f_y(y)$"
   ]
  },
  {
   "cell_type": "markdown",
   "metadata": {},
   "source": []
  }
 ],
 "metadata": {
  "language_info": {
   "name": "python"
  }
 },
 "nbformat": 4,
 "nbformat_minor": 2
}
