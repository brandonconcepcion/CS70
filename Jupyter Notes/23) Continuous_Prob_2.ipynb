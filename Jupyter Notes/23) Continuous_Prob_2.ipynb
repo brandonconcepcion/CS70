{
 "cells": [
  {
   "cell_type": "markdown",
   "metadata": {},
   "source": [
    "### **Exponential Distributions**\n",
    "\n",
    "* Describe the time between consecutive events in a Poisson process \n",
    "* Focuses on the duration or waiting time until the next event occurs, assuming events happen independently at a constant average rate \n",
    "* Measures the time we have to wait until some event happens, given that events happen at fixed rate $\\lambda$ (in continuous time)\n",
    "\n",
    "Some common examples: \n",
    "* Modeling the time between arrivals of customers at a service counter\n",
    "* Modeling the time between phone calls at a call center \n",
    "\n",
    "\n",
    "**Definition:**\n",
    "* An Exponential Random variable $X$ with parameter $\\lambda$ is a continuous random variable with p.d.f \n",
    "\n",
    "$$ f(x) = \n",
    "\\begin{cases} \n",
    "\\lambda e^{- \\lambda x} & \\text{if } x \\geq 0 \\\\\n",
    "0 & \\text{if } x < 0\n",
    "\\end{cases}$$\n",
    "\n",
    "We write $X$ ~ $\\text{Exp} (\\lambda)$\n"
   ]
  },
  {
   "cell_type": "markdown",
   "metadata": {},
   "source": [
    "#### **Connection with the Geometric distribution**\n",
    "\n",
    "If $X$ ~ $\\text{Exp} (\\lambda)$, then \n",
    "\n",
    "$$P[X > t] = e^{-\\lambda t}$$\n",
    "\n",
    "\"The probability of observing an event after $t$ time\"\n",
    "\n",
    "\n",
    "**Expectation** of Exponential: \n",
    "* $E[X] = \\frac{1}{\\lambda}$\n",
    "\n",
    "**Variance** of Exponential: \n",
    "* $\\text{Var}(X) = \\frac{1}{\\lambda ^2}$\n",
    "\n",
    "\n",
    "\n"
   ]
  },
  {
   "cell_type": "markdown",
   "metadata": {},
   "source": [
    "### **Normal / Gaussian Distribution**\n",
    "\n",
    "For any $\\mu$ $\\in$ $\\R$ and $\\sigma > 0$, a continuous random variable $X$ with p.d.f \n",
    "\n",
    "$$f(x) = \\frac{1}{\\sqrt{2 \\pi \\sigma^2}} \\text{exp} \\frac{-(x - \\mu)^2}{2 \\sigma ^2}$$\n",
    "\n",
    "is a normal random variable with parameters $(\\mu, \\sigma ^2)$\n",
    "\n",
    "We write $X$ ~ $N(\\mu, \\sigma ^2)$\n",
    "\n",
    "$\\mu = 0$, $\\sigma = 1 \\rightarrow$ standard normal distribution\n",
    "\n",
    "**Fact**: All normal distributions are the same up to shifts and scaling \n",
    "\n",
    "If $X$ ~ $N(\\mu, \\sigma ^2)$ then $Y = \\frac{X - \\mu}{\\sigma}$ ~ $N(0,1)$\n",
    "\n",
    "#### **Normal Expectation and Variance**\n",
    "* Suppose $X$ ~ $N(0,1)$ is standard normal, then the **expectation** of $X$ is $0$\n",
    "* If  $X$ ~ $N(0,1)$ is standard normal, then the **variance** of $X$ is $1$\n",
    "\n",
    "\n",
    "#### **General Expectation and Variance**\n",
    "* Suppose $X$ ~ $N(\\mu,\\sigma ^2)$, then the **expectation** of $X$ is $\\mu$\n",
    "* If  $X$ ~ $N(\\mu,\\sigma ^2)$, then the **variance** of $X$ is $\\sigma ^2$\n",
    "\n",
    "\n",
    "### **Sum of Independent Normals**\n",
    "* Fact: If $X$ ~ $N(0,1)$ and $Y$ ~ $N(0,1)$ are independent, and $a$, $b$ are constants, then \n",
    "\n",
    "$$aX + bY \\sim N(0, a^2 + b^2)$$\n",
    "\n",
    "* $E[aX + bY] = 0$\n",
    "* $\\text{Var}(aX + bY) = a^2 + b^2$\n",
    "\n",
    "#### **More Generally**\n",
    "*  If $X$ ~ $N(\\mu_x,\\sigma_x^2)$ and $Y$ ~ $N(\\mu_y,\\sigma_y^2)$ are independent, and $a$, $b$ are constants, then \n",
    "\n",
    "$$aX + bY \\sim N(a\\mu_x + b\\mu_y , a\\sigma_x^2 + b\\sigma_x^2)$$\n"
   ]
  },
  {
   "cell_type": "markdown",
   "metadata": {},
   "source": [
    "### **Central Limit Theorem**\n",
    "\n",
    "Recall: average of many independent samples of the same random variable $x_1, x_2, ...$ i.i.d \n",
    "* $E[X_i] = \\mu$ and $Var(X_i) = \\sigma ^2$\n",
    "\n",
    "Sample average: $\\frac{1}{N} S_N$ where $S_n = x_1 + ... + x_n$\n",
    "\n",
    "As $N \\rightarrow \\infty$, the distribution of $\\frac{1}{N} S_N$ (distribution of all sample means) approaches $N(\\mu, \\frac{\\sigma^2}{N})$\n",
    "\n",
    "* If we scale $\\frac{1}{N} S_N$ so that limit is standard normal, \n",
    "\n",
    "$$\\frac{\\frac{1}{N} S_N - \\mu}{\\frac{\\sigma}{\\sqrt{N}}} = \\frac{S_N - N\\mu}{\\sigma\\sqrt{N}}$$\n",
    "\n",
    "Central Limit Theorem: \n",
    "* For i.i.d random variable $X_i$ wtih $E[X_i] = \\mu$, $\\text{Var}(X_i) = \\sigma^2$, the distribution of $\\frac{S_N - N\\mu}{\\sigma\\sqrt{N}}$ converges to $N(0,1)$ as $N \\rightarrow \\infty$"
   ]
  }
 ],
 "metadata": {
  "language_info": {
   "name": "python"
  }
 },
 "nbformat": 4,
 "nbformat_minor": 2
}
