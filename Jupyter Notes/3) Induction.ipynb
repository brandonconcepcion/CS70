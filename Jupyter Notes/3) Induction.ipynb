{
 "cells": [
  {
   "cell_type": "markdown",
   "metadata": {},
   "source": [
    "# Induction #"
   ]
  },
  {
   "cell_type": "markdown",
   "metadata": {},
   "source": [
    "Induction is a great proof technique to prove that something is true for everything in a set (often the natural numbers). \n",
    "\n",
    "The main premise is this: If we prove the first value, then prove that the next value is true, then the value after that is *also* true, and so on, we eventually prove for all value \n",
    "\n",
    "This is analagous to the **domino effect**. If the first one is true, the it knocks down the domino for the next value. If that's true, then it knocks out the next one, and so on until every possible value is covered. \n",
    "\n",
    "### Induction Form ### \n",
    "* Prove $P(C)$. (Base Case)\n",
    "* Assume $P(K)$ (Induction Hypothesis)\n",
    "* Prove $P(K+1)$ (Induction Step)\n",
    "    * When Proving the induction step, we can treat the induction hypothesis as a true statement. \n",
    "\n",
    "#### Induction Example ####\n",
    "\n",
    "Let's try and prove the following statement: $$\\forall n \\in \\mathbb{N}, \\sum_{i=0}^{\\infty} i = \\frac{n(n + 1)}{2}$$\n",
    "\n",
    "In pure English, the statement above makes the claim that: \"For a specific natural number $n$, we can find the sum between $1$ all the way up to $n$ using the specific formula $\\frac{n(n + 1)}{2}$, such that $n$ can take on any value in the natural numbers \"\n",
    "\n",
    "*Base Case:* $(n = 0)$: Here, we have  $\\sum_{i=0}^{0} i = \\frac{0(0 + 1)}{2} = 0$. Thus, the base case is correct\n",
    "\n",
    "*Induction Hypothesis:* For arbitrary $n = k \\geq 0$, assume that $\\sum_{i=0}^{k} i = \\frac{(k)(k + 1)}{2}$ is true. In words, the Induction Hypothesis says \"let's assume we have already prvoed the statement for an arbitrary value of $n = k \\geq 0$ \"\n",
    "\n",
    "*Inductive Step*: Prove the statement for $n = (k + 1)$, i.e. show that $\\sum_{i=0}^{k+1} i = \\frac{(k+1)(k + 2)}{2}$: \n",
    "\n",
    "$$\\sum_{i=0}^{k+1} i =(\\sum_{i=0}^{k} i) + (k + 1) = \\frac{(k)(k + 1)}{2} + (k + 1) = \\frac{k(k+1) + 2(k + 1)}{2} = \\frac{(k+1) (k + 2)}{2}$$\n",
    "\n",
    "where the second equality follows from the Induction Hypothesis. By the principle of mathematical induction, the original claim holds.\n",
    "\n"
   ]
  },
  {
   "cell_type": "markdown",
   "metadata": {},
   "source": [
    "### Stronger Induction ###\n",
    "\n",
    "Sometimes, an inductive proof can be rather elusive. It might be easier to **make the statement stronger** and prove that instead! \n",
    "* The rationale is that *if* a stronger argument is true, then a weaker argument must *also* be true \n",
    "\n",
    "Let's take a look at an example: \"The sum of the first *n* odd numbers is the square of a natural number\":\n",
    "\n",
    "*Base Case:* $(n = 1)$: The first odd number is 1, which is a perfect square\n",
    "\n",
    "*Induction Hypothesis:*: Assume that the sum of the first $k$ odd numbers is a perfect square, say $m^2$\n",
    "\n",
    "*Inductive Step*: The $(k+1)$st odd number is $2k+1$. Thus, by the Induction Hypothesis, the sum of the first $k+1$ odd numbers is $m^2+2k+1$. But now we are stuck. Why should $m^2+2k+1$ by a perfect square?\n",
    "* It seems our Induction Hypothesis is too \"weak\"; it does not give us enough structure to say anything meaningful about the $(k+1)$ case\n",
    "\n",
    "As we try to figure out a pattern, we might notice something: \n",
    "* For $n = 1$: $1 = 1^2 = n^2$, a perfect square\n",
    "* For $n = 2$: $1 + 3 = 2^2 = n^2$, a perfect square\n",
    "* For $n = 3$: $1 + 3 + 5= 3^2 = n^2$, a perfect square\n",
    "\n",
    "Not only does it look like the sum of the first n odd numbers is equal to some arbitrary square number, but is actually equal to $n^2$. So, let's try and prove this **stronger** claim: \n",
    "\n",
    "**New Claim**: For all $n \\geq 1$, the sume of the first $n$ odd numbers is $n^2$\n",
    "\n",
    "*Base Case:* $(n = 1)$: The first odd number is 1, which is equal to $1^2$\n",
    "\n",
    "*Induction Hypothesis:*: Assume that the sum of the first $k$ odd numbers is a $k^2$\n",
    "\n",
    "*Inductive Step*: The $(k+1)$st odd number is $2k+1$. Thus, by the Induction Hypothesis, the sum of the first $k+1$ odd numbers is $k^2+(2k+1) = (k + 1)^2$. So, by the principle of induction, this theorem holds!\n",
    "\n",
    "The reason this works is that our *original*, *weaker*, claim was too vague! But in making our claim **stronger**, we were able to also directly prove this *weaker* claim!\n",
    "\n"
   ]
  },
  {
   "cell_type": "markdown",
   "metadata": {},
   "source": [
    "### Strong Induction Principle ###\n",
    "\n",
    "This principle is useful for when you don't want your base case to be 0. \n",
    "\n",
    "The Strong Induction Principle states that if we prove all of the propositions from $P(0)$ up to $P(k)$, then $P(k)$ can be used as a base case: \n",
    "\n",
    "$(\\forall k \\in \\mathbb{N})((P(0) \\land P(1) \\land \\cdots \\land P(k)) \\implies P(k+1)) \\implies (\\forall k \\in \\mathbb{N})(P(k))$\n",
    "\n",
    "#### Steps for Strong Induction ####\n",
    "1) **Base Case**: Prove that the statement holds for a small natural number, typically $0$ or $1$\n",
    "2) **Inductive Step**: Assume the statement holds for all natural numbers up to $k$ (not just for $k$ itself) and then prove that it holds for $k+1$\n",
    "\n",
    "Strong induction is often useful when the inductive step requires knowing more than just the truth of the statement for $n=k$"
   ]
  }
 ],
 "metadata": {
  "language_info": {
   "name": "python"
  }
 },
 "nbformat": 4,
 "nbformat_minor": 2
}
